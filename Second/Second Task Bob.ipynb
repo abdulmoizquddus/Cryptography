{
 "cells": [
  {
   "cell_type": "markdown",
   "id": "46f93934",
   "metadata": {},
   "source": [
    "## Deffie Helman"
   ]
  },
  {
   "cell_type": "code",
   "execution_count": 1,
   "id": "59a4ad65",
   "metadata": {},
   "outputs": [],
   "source": [
    "import socket, random\n",
    "#Ceasor Cipher\n",
    "def encrypt(plain_text,key):\n",
    "    cipher_text = \"\"\n",
    "    for i in range(len(plain_text)):\n",
    "        char = plain_text[i]\n",
    "        if char.isalpha():\n",
    "            if(char.isupper()):\n",
    "                cipher_text += chr((ord(char)+key -65) % 26 + 65)\n",
    "            else:\n",
    "                cipher_text += chr((ord(char)+key- 97) % 26 + 97)\n",
    "        else:\n",
    "            cipher_text+=char\n",
    "    return cipher_text\n",
    "\n",
    "def decrypt(plain_text,key):\n",
    "    key=-key\n",
    "    return encrypt(plain_text,key)\n"
   ]
  },
  {
   "cell_type": "code",
   "execution_count": 2,
   "id": "4c06ffc9",
   "metadata": {},
   "outputs": [],
   "source": [
    "# client = socket.socket(socket.AF_INET, socket.SOCK_STREAM)\n",
    "# client.connect(('127.0.0.1', 6666))\n",
    "# q = client.recv(4096)\n",
    "# a = client.recv(4096)\n",
    "# q,a=int(q.decode()),int(a.decode())\n",
    "# privatekey_bob = random.randint(0,q)\n",
    "# publickey_bob = (a**privatekey_bob)%q\n",
    "\n",
    "# publickey_alice = client.recv(4096)\n",
    "# publickey_alice = int(publickey_alice.decode())\n",
    "# client.send(str(publickey_bob).encode()) #sending bob's pub key to alice\n",
    "\n",
    "# secret_key=(publickey_alice**privatekey_bob)%q\n",
    "# print(secret_key,publickey_bob,publickey_bob,privatekey_bob,q,a)\n",
    "\n",
    "# #Encrypted Communication further on\n",
    "# while True:\n",
    "#     msg=input(\">>>\")\n",
    "#     client.send(encrypt(msg,secret_key).encode())\n",
    "#     from_server = client.recv(4096)\n",
    "#     print (\"From Server:\",decrypt(from_server.decode(),secret_key))\n",
    "#     if msg=='0':\n",
    "#         break\n",
    "# print(\"Closing Connection\")\n",
    "# client.close()"
   ]
  },
  {
   "cell_type": "markdown",
   "id": "a8982282",
   "metadata": {},
   "source": [
    "## El-Gamal"
   ]
  },
  {
   "cell_type": "code",
   "execution_count": null,
   "id": "b2ae3188",
   "metadata": {},
   "outputs": [
    {
     "name": "stdout",
     "output_type": "stream",
     "text": [
      ">>>15\n",
      "88 198 61 15\n",
      "From Server: \n"
     ]
    }
   ],
   "source": [
    "client = socket.socket(socket.AF_INET, socket.SOCK_STREAM)\n",
    "client.connect(('127.0.0.1', 6668))\n",
    "q = client.recv(4096)\n",
    "a = client.recv(4096)\n",
    "q,a=int(q.decode()),int(a.decode())\n",
    "privatekey_bob = random.randint(0,q)\n",
    "publickey_bob = (a**privatekey_bob)%q\n",
    "\n",
    "publickey_alice = client.recv(4096)\n",
    "publickey_alice = int(publickey_alice.decode())\n",
    "client.send(str(publickey_bob).encode()) #sending bob's pub key to alice\n",
    "\n",
    "\n",
    "while True:\n",
    "    msg=input(\">>>\")\n",
    "#     client.send(encrypt(msg,secret_key).encode())\n",
    "    k = random.randint(0,q)\n",
    "    K = (publickey_alice**k)%q\n",
    "    C1=(a**k)%q\n",
    "    C2=(K*int(msg))%q\n",
    "    client.send(str(C1).encode())\n",
    "    client.send(str(C2).encode())\n",
    "    print(C1,C2,K,msg)\n",
    "    from_server = client.recv(4096)\n",
    "#     print (\"From Server:\",decrypt(from_server.decode(),secret_key))\n",
    "    print (\"From Server:\",from_server.decode())\n",
    "    if msg=='0':\n",
    "        break\n",
    "print(\"Closing Connection\")\n",
    "client.close()"
   ]
  },
  {
   "cell_type": "code",
   "execution_count": null,
   "id": "c2e28df0",
   "metadata": {},
   "outputs": [],
   "source": []
  },
  {
   "cell_type": "code",
   "execution_count": null,
   "id": "0ca089ba",
   "metadata": {},
   "outputs": [],
   "source": []
  }
 ],
 "metadata": {
  "kernelspec": {
   "display_name": "Python 3 (ipykernel)",
   "language": "python",
   "name": "python3"
  },
  "language_info": {
   "codemirror_mode": {
    "name": "ipython",
    "version": 3
   },
   "file_extension": ".py",
   "mimetype": "text/x-python",
   "name": "python",
   "nbconvert_exporter": "python",
   "pygments_lexer": "ipython3",
   "version": "3.9.12"
  }
 },
 "nbformat": 4,
 "nbformat_minor": 5
}
