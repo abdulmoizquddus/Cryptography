{
 "cells": [
  {
   "cell_type": "markdown",
   "id": "22ce92ee",
   "metadata": {},
   "source": [
    "## Deffie Helman"
   ]
  },
  {
   "cell_type": "code",
   "execution_count": 1,
   "id": "644f5c4a",
   "metadata": {},
   "outputs": [],
   "source": [
    "#imports\n",
    "import socket,random\n",
    "from math import gcd as bltin_gcd\n",
    "from sympy import *"
   ]
  },
  {
   "cell_type": "code",
   "execution_count": 2,
   "id": "6278015a",
   "metadata": {},
   "outputs": [],
   "source": [
    "#Ceasor Cipher\n",
    "def encrypt(plain_text,key):\n",
    "    cipher_text = \"\"\n",
    "    for i in range(len(plain_text)):\n",
    "        char = plain_text[i]\n",
    "        if char.isalpha():\n",
    "            if(char.isupper()):\n",
    "                cipher_text += chr((ord(char)+key -65) % 26 + 65)\n",
    "            else:\n",
    "                cipher_text += chr((ord(char)+key- 97) % 26 + 97)\n",
    "        else:\n",
    "            cipher_text+=char\n",
    "    return cipher_text\n",
    "\n",
    "def decrypt(plain_text,key):\n",
    "    key=-key\n",
    "    return encrypt(plain_text,key)"
   ]
  },
  {
   "cell_type": "code",
   "execution_count": 3,
   "id": "add62040",
   "metadata": {},
   "outputs": [],
   "source": [
    "#calculating q & a\n",
    "def primeRoots(modulo):\n",
    "    required_set = {num for num in range(1, modulo) if bltin_gcd(num, modulo) }\n",
    "    return [g for g in range(1, modulo) if required_set == {pow(g, powers, modulo)\n",
    "            for powers in range(1, modulo)}]\n",
    "\n",
    "primes = [i for i in range(10,500) if isprime(i)]\n",
    "q = random.choice(primes)\n",
    "prime_roots_q=primeRoots(q)\n",
    "# print(q)\n",
    "while True:\n",
    "    a = random.choice(prime_roots_q)\n",
    "    if a < q:\n",
    "        break\n",
    "# print(a)\n",
    "q1=bytes(str(q), 'utf8')\n",
    "a1=bytes(str(a), 'utf8')"
   ]
  },
  {
   "cell_type": "code",
   "execution_count": 4,
   "id": "22b99054",
   "metadata": {},
   "outputs": [],
   "source": [
    "# serv = socket.socket(socket.AF_INET, socket.SOCK_STREAM)\n",
    "# serv.bind(('127.0.0.1', 6666))\n",
    "# serv.listen()\n",
    "# conn, addr = serv.accept()\n",
    "# conn.send(q1)\n",
    "# conn.send(a1)\n",
    "# privatekey_alice = random.randint(0,q)\n",
    "# publickey_alice = (a**privatekey_alice)%q\n",
    "\n",
    "# conn.send(str(publickey_alice).encode())  #sending alice's pub key to bob\n",
    "# publickey_bob = conn.recv(4096)\n",
    "# publickey_bob = int(publickey_bob.decode())\n",
    "\n",
    "# secret_key=(publickey_bob**privatekey_alice)%q\n",
    "# print(secret_key,publickey_bob,publickey_alice,privatekey_alice,q,a)\n",
    "\n",
    "# #Encrypted Communication further on\n",
    "# while True:\n",
    "#     data = conn.recv(4096)\n",
    "#     if not data: break\n",
    "#     print (\"From Client:\",decrypt(data.decode(),secret_key))\n",
    "#     msg=input(\">>>\")\n",
    "#     conn.send(encrypt(msg,secret_key).encode())\n",
    "# conn.close()\n",
    "# print('Client Disconnected!')"
   ]
  },
  {
   "cell_type": "markdown",
   "id": "0b9bd9f1",
   "metadata": {},
   "source": [
    "## El-Gamal"
   ]
  },
  {
   "cell_type": "code",
   "execution_count": null,
   "id": "542f9334",
   "metadata": {},
   "outputs": [
    {
     "name": "stdout",
     "output_type": "stream",
     "text": [
      "From Client: 88 198 61 15\n"
     ]
    }
   ],
   "source": [
    "serv = socket.socket(socket.AF_INET, socket.SOCK_STREAM)\n",
    "serv.bind(('127.0.0.1', 6668))\n",
    "serv.listen()\n",
    "conn, addr = serv.accept()\n",
    "conn.send(q1)\n",
    "conn.send(a1)\n",
    "privatekey_alice = random.randint(0,q)\n",
    "publickey_alice = (a**privatekey_alice)%q\n",
    "conn.send(str(publickey_alice).encode())  #sending alice's pub key to bob\n",
    "publickey_bob = conn.recv(4096)\n",
    "publickey_bob = int(publickey_bob.decode())\n",
    "while True:\n",
    "    C1 = conn.recv(4096)\n",
    "    C2 = conn.recv(4096)\n",
    "    if not C1 or not C2: break\n",
    "    C1=int(C1.decode())\n",
    "    C2=int(C2.decode())\n",
    "    K=(C1**privatekey_alice)%q\n",
    "    K_inv=pow(K, q-2, q)\n",
    "    M=(C2*K_inv)%q\n",
    "    print (\"From Client:\",C1,C2,K,M)\n",
    "    msg=input(\">>>\")\n",
    "#     conn.send(encrypt(msg,secret_key).encode())\n",
    "    conn.send(msg.encode())\n",
    "conn.close()\n",
    "print('Client Disconnected!')"
   ]
  },
  {
   "cell_type": "code",
   "execution_count": 7,
   "id": "370a24ab",
   "metadata": {},
   "outputs": [
    {
     "name": "stdout",
     "output_type": "stream",
     "text": [
      "251\n",
      "The required modular inverse is: 249\n"
     ]
    }
   ],
   "source": [
    "print(q)\n",
    "a=125\n",
    "m=251\n",
    "res = pow(a, m-2, m)\n",
    "print(\"The required modular inverse is: \"+ str(res))"
   ]
  },
  {
   "cell_type": "code",
   "execution_count": 18,
   "id": "4ad75d71",
   "metadata": {},
   "outputs": [
    {
     "data": {
      "text/plain": [
       "66"
      ]
     },
     "execution_count": 18,
     "metadata": {},
     "output_type": "execute_result"
    }
   ],
   "source": [
    "(7*105)%223"
   ]
  },
  {
   "cell_type": "code",
   "execution_count": 8,
   "id": "cb8a6d93",
   "metadata": {},
   "outputs": [
    {
     "data": {
      "text/plain": [
       "1"
      ]
     },
     "execution_count": 8,
     "metadata": {},
     "output_type": "execute_result"
    }
   ],
   "source": [
    "(249*125)%251"
   ]
  },
  {
   "cell_type": "code",
   "execution_count": null,
   "id": "413b0e3a",
   "metadata": {},
   "outputs": [],
   "source": []
  }
 ],
 "metadata": {
  "kernelspec": {
   "display_name": "Python 3 (ipykernel)",
   "language": "python",
   "name": "python3"
  },
  "language_info": {
   "codemirror_mode": {
    "name": "ipython",
    "version": 3
   },
   "file_extension": ".py",
   "mimetype": "text/x-python",
   "name": "python",
   "nbconvert_exporter": "python",
   "pygments_lexer": "ipython3",
   "version": "3.9.12"
  }
 },
 "nbformat": 4,
 "nbformat_minor": 5
}
