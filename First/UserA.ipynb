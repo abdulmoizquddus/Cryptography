{
 "cells": [
  {
   "cell_type": "code",
   "execution_count": null,
   "metadata": {},
   "outputs": [
    {
     "name": "stdout",
     "output_type": "stream",
     "text": [
      "Abdul bc:85:56:c6:c8:97\n"
     ]
    }
   ],
   "source": [
    "import socket,getmac\n",
    "print(socket.gethostname(),getmac.get_mac_address())\n",
    "\n",
    "def find_key(hostname):\n",
    "    asci_avg=round((sum(ord(ch) for ch in hostname))/len(hostname))\n",
    "    return asci_avg%26\n",
    "\n",
    "def encrypt(plain_text,key):\n",
    "    cipher_text = \"\"\n",
    "    for i in range(len(plain_text)):\n",
    "        char = plain_text[i]\n",
    "        if (char==\" \"):\n",
    "            cipher_text+=char\n",
    "        elif(char.isupper()):\n",
    "            cipher_text += chr((ord(char)+key -65) % 26 + 65)\n",
    "        else:\n",
    "            cipher_text += chr((ord(char)+key- 97) % 26 + 97)\n",
    "    return cipher_text\n",
    "\n",
    "def decrypt(plain_text,key):\n",
    "    key=-key\n",
    "    return encrypt(plain_text,key)\n",
    "\n",
    "def bruteforce(cipher_text):\n",
    "    for key in range(1,26):\n",
    "        plain_text=\"\"\n",
    "        for char in cipher_text:\n",
    "            if (char==\" \"):\n",
    "                plain_text+=char\n",
    "            elif(char.isupper()):\n",
    "                plain_text += chr((ord(char)+key -65) % 26 + 65)\n",
    "            else:\n",
    "                plain_text += chr((ord(char)+key- 97) % 26 + 97)\n",
    "        print(\"At Key\",26-key,\":\",plain_text)\n",
    "        \n",
    "client = socket.socket(socket.AF_INET, socket.SOCK_STREAM)\n",
    "client.connect(('127.0.0.1', 8080))\n",
    "byte=socket.gethostname().encode()+\" \".encode()+getmac.get_mac_address().encode()\n",
    "client.send(byte)\n",
    "while True:\n",
    "    msg=input(\"C: \")\n",
    "    byte=encrypt(msg,find_key(socket.gethostname())).encode()\n",
    "    client.send(byte)\n",
    "#     from_server = client.recv(4096)\n",
    "#     print (from_server.decode())\n",
    "#     if msg=='0':\n",
    "#         break\n",
    "print(\"Closing Connection\")\n",
    "client.close()\n"
   ]
  },
  {
   "cell_type": "code",
   "execution_count": null,
   "metadata": {},
   "outputs": [],
   "source": []
  }
 ],
 "metadata": {
  "kernelspec": {
   "display_name": "Python 3 (ipykernel)",
   "language": "python",
   "name": "python3"
  },
  "language_info": {
   "codemirror_mode": {
    "name": "ipython",
    "version": 3
   },
   "file_extension": ".py",
   "mimetype": "text/x-python",
   "name": "python",
   "nbconvert_exporter": "python",
   "pygments_lexer": "ipython3",
   "version": "3.9.12"
  }
 },
 "nbformat": 4,
 "nbformat_minor": 4
}
